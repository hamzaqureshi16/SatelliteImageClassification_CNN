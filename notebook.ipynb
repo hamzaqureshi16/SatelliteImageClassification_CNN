{
 "cells": [
  {
   "cell_type": "code",
   "execution_count": 2,
   "metadata": {},
   "outputs": [],
   "source": [
    "import torch\n",
    "import torch.nn as nn\n",
    "import torch.optim as optim\n",
    "from torch.utils.data import DataLoader\n",
    "from torchvision import datasets, transforms\n",
    "import torch.nn.functional as F\n",
    "\n",
    "# Define required input dimensions\n",
    "input_channels = 3  # Assuming RGB images\n",
    "input_width = 80  # Update with the actual width\n",
    "input_height = 80  # Update with the actual height\n"
   ]
  },
  {
   "cell_type": "code",
   "execution_count": 3,
   "metadata": {},
   "outputs": [],
   "source": [
    "class SatelliteClassifier(nn.Module):\n",
    "    def __init__(self, channels, batchNorm=False):\n",
    "        super(SatelliteClassifier, self).__init__()\n",
    "        self.conv1 = nn.Conv2d(channels, 32, kernel_size=3, stride=1, padding=1)\n",
    "        self.conv2 = nn.Conv2d(32, 32, kernel_size=3, stride=1, padding=1)\n",
    "        if batchNorm:\n",
    "            self.conv2_bn = nn.BatchNorm2d(32)\n",
    "        self.pool1 = nn.MaxPool2d(kernel_size=2, stride=2)\n",
    "        self.conv3 = nn.Conv2d(32, 64, kernel_size=3, stride=1, padding=1)\n",
    "        self.conv4 = nn.Conv2d(64, 64, kernel_size=3, stride=1, padding=1)\n",
    "        if batchNorm:\n",
    "            self.conv4_bn = nn.BatchNorm2d(64)\n",
    "        self.pool2 = nn.MaxPool2d(kernel_size=2, stride=2)\n",
    "        self.fc1 = nn.Linear(64 * 20 * 20, 128)\n",
    "        self.fc2 = nn.Linear(128, 4) # 4 classes\n",
    "\n",
    "    def forward(self, x):\n",
    "        x = F.relu(self.conv1(x))\n",
    "        x = F.relu(self.conv2(x))\n",
    "        if hasattr(self, 'conv2_bn'):\n",
    "            x = self.conv2_bn(x)\n",
    "        x = self.pool1(x)\n",
    "        x = F.relu(self.conv3(x))\n",
    "        x = F.relu(self.conv4(x))\n",
    "        if hasattr(self, 'conv4_bn'):\n",
    "            x = self.conv4_bn(x)\n",
    "        x = self.pool2(x)\n",
    "        x = x.view(-1, 64 * (80 // 4) * (80 // 4))\n",
    "        x = F.relu(self.fc1(x))\n",
    "        x = self.fc2(x)\n",
    "        return x"
   ]
  },
  {
   "cell_type": "code",
   "execution_count": 4,
   "metadata": {},
   "outputs": [],
   "source": [
    "# Instantiate the model\n",
    "model = SatelliteClassifier(input_channels)\n",
    "\n",
    "# Choose a loss function and optimizer\n",
    "criterion = nn.CrossEntropyLoss()\n",
    "\n",
    "optimizers = [\n",
    "    {'optimizer':optim.SGD(model.parameters(), lr=1, momentum=0.9),\"batchNorm\":False},\n",
    "    {'optimizer':optim.SGD(model.parameters(), lr=0.1, momentum=0.9),\"batchNorm\":True},\n",
    "    {'optimizer':optim.SGD(model.parameters(), lr=0.01, momentum=0.9),\"batchNorm\":False},\n",
    "    {'optimizer':optim.Adam(model.parameters(), lr=1),\"batchNorm\":False},\n",
    "    {'optimizer':optim.Adam(model.parameters(), lr=0.1),\"batchNorm\":True},\n",
    "    {'optimizer':optim.Adam(model.parameters(), lr=0.01),\"batchNorm\":False},\n",
    "]\n",
    "\n",
    "transform = transforms.Compose([\n",
    "    transforms.Resize((input_width, input_height)),\n",
    "    transforms.ToTensor()\n",
    "])\n",
    "\n"
   ]
  },
  {
   "cell_type": "code",
   "execution_count": 5,
   "metadata": {},
   "outputs": [],
   "source": [
    "# Adjust 'root' with the actual path to your dataset\n",
    "dataset = datasets.ImageFolder(root='./Dataset/data/', transform=transform)\n",
    "\n"
   ]
  },
  {
   "cell_type": "code",
   "execution_count": 8,
   "metadata": {},
   "outputs": [
    {
     "data": {
      "text/plain": [
       "1127"
      ]
     },
     "execution_count": 8,
     "metadata": {},
     "output_type": "execute_result"
    }
   ],
   "source": [
    "\n",
    "train_size = int(0.8 * len(dataset))\n",
    "val_size = len(dataset) - train_size\n",
    "train_dataset, val_dataset = torch.utils.data.random_split(dataset, [train_size, val_size])\n",
    "\n",
    "batch_size = 16\n",
    "train_loader = DataLoader(train_dataset, batch_size=batch_size, shuffle=True)\n",
    "val_loader = DataLoader(val_dataset, batch_size=batch_size, shuffle=False)\n",
    "\n"
   ]
  },
  {
   "cell_type": "code",
   "execution_count": 6,
   "metadata": {},
   "outputs": [
    {
     "name": "stdout",
     "output_type": "stream",
     "text": [
      "Epoch: 0, Loss: 1.388100266456604, Accuracy: 0.25820763087843834\n",
      "Epoch: 1, Loss: 1.386849284172058, Accuracy: 0.25820763087843834\n"
     ]
    },
    {
     "ename": "",
     "evalue": "",
     "output_type": "error",
     "traceback": [
      "\u001b[1;31mThe Kernel crashed while executing code in the the current cell or a previous cell. Please review the code in the cell(s) to identify a possible cause of the failure. Click <a href='https://aka.ms/vscodeJupyterKernelCrash'>here</a> for more info. View Jupyter <a href='command:jupyter.viewOutput'>log</a> for further details."
     ]
    }
   ],
   "source": [
    "for optimizer in optimizers:\n",
    "    model = SatelliteClassifier(input_channels,optimizer['batchNorm'])\n",
    "    num_epochs = 10\n",
    "    for epoch in range(num_epochs):\n",
    "        model.train()\n",
    "        for inputs, labels in train_loader:\n",
    "            optimizer['optimizer'].zero_grad()\n",
    "            outputs = model(inputs)\n",
    "            loss = criterion(outputs, labels)\n",
    "            loss.backward()\n",
    "            optimizer['optimizer'].step()\n",
    "        model.eval()\n",
    "        correct = 0\n",
    "        total = 0\n",
    "        with torch.no_grad():\n",
    "            for inputs, labels in val_loader:\n",
    "                outputs = model(inputs)\n",
    "                _, predicted = torch.max(outputs, dim=1)\n",
    "                total += labels.size(0)\n",
    "                correct += int((predicted == labels).sum())\n",
    "        print(\"Epoch: {}, Loss: {}, Accuracy: {}\".format(epoch, loss.item(), correct / total))\n",
    "\n",
    "    \n",
    "    # Validation loop\n",
    "    model.eval()\n",
    "    correct = 0\n",
    "    total = 0\n",
    "    with torch.no_grad():\n",
    "        for inputs, labels in val_loader:\n",
    "            outputs = model(inputs)\n",
    "            _, predicted = torch.max(outputs.data, 1)\n",
    "            total += labels.size(0)\n",
    "            correct += (predicted == labels).sum().item()\n",
    "\n",
    "    accuracy = correct / total\n",
    "    print(optimizer['optimizer'],optimizer['batchNorm'],accuracy)\n",
    "\n",
    "\n"
   ]
  },
  {
   "cell_type": "code",
   "execution_count": null,
   "metadata": {},
   "outputs": [
    {
     "name": "stdout",
     "output_type": "stream",
     "text": [
      "Validation Accuracy: 25.91%\n"
     ]
    }
   ],
   "source": [
    "\n",
    "# Validation loop\n",
    "model.eval()\n",
    "correct = 0\n",
    "total = 0\n",
    "with torch.no_grad():\n",
    "    for inputs, labels in val_loader:\n",
    "        outputs = model(inputs)\n",
    "        _, predicted = torch.max(outputs.data, 1)\n",
    "        total += labels.size(0)\n",
    "        correct += (predicted == labels).sum().item()\n",
    "\n",
    "accuracy = correct / total\n",
    "print(f'Validation Accuracy: {accuracy * 100:.2f}%')"
   ]
  }
 ],
 "metadata": {
  "kernelspec": {
   "display_name": "Python 3 (ipykernel)",
   "language": "python",
   "name": "python3"
  },
  "language_info": {
   "codemirror_mode": {
    "name": "ipython",
    "version": 3
   },
   "file_extension": ".py",
   "mimetype": "text/x-python",
   "name": "python",
   "nbconvert_exporter": "python",
   "pygments_lexer": "ipython3",
   "version": "3.11.3"
  }
 },
 "nbformat": 4,
 "nbformat_minor": 2
}
